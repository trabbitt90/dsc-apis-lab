{
 "cells": [
  {
   "cell_type": "markdown",
   "metadata": {},
   "source": [
    "# APIs - Cumulative Lab\n",
    "\n",
    "\n",
    "## Introduction \n",
    "\n",
    "We've seen how the Yelp API works and how to create basic visualizations using Folium. It's time to put those skills to work in order to create a working map! Taking things a step further, you'll also independently explore how to perform pagination in order to retrieve a full results set from the Yelp API.\n",
    "\n",
    "## Objectives\n",
    "\n",
    "You will be able to: \n",
    "\n",
    "* Practice using functions to organize your code\n",
    "* Use pagination to retrieve all results from an API query\n",
    "* Practice parsing data returned from an API query\n",
    "* Practice interpreting visualizations of a dataset\n",
    "* Create maps using Folium"
   ]
  },
  {
   "cell_type": "markdown",
   "metadata": {},
   "source": [
    "## Your Task: Query Yelp for All Businesses in a Category and Analyze the Results\n",
    "\n",
    "![restaurant counter with pizza](images/restaurant_counter.jpg)\n",
    "\n",
    "Photo by <a href=\"https://unsplash.com/@jordanmadrid?utm_source=unsplash&utm_medium=referral&utm_content=creditCopyText\">Jordan Madrid</a> on <a href=\"/s/photos/pizza-restaurant?utm_source=unsplash&utm_medium=referral&utm_content=creditCopyText\">Unsplash</a>"
   ]
  },
  {
   "cell_type": "markdown",
   "metadata": {},
   "source": [
    "### Overview\n",
    "\n",
    "You've now worked with some API calls, but we have yet to see how to retrieve a more complete dataset in a programmatic manner. In this lab, you will write a query of businesses on Yelp, then use *pagination* to retrieve all possible results for that query. Then you will create a summary of your findings, including a Folium map of the geographic locations of those businesses.\n",
    "\n",
    "### Technical Details\n",
    "\n",
    "Returning to the Yelp API, the [documentation](https://www.yelp.com/developers/documentation/v3/business_search) also provides us details regarding the **API limits**. These often include details about the number of requests a user is allowed to make within a specified time limit and the maximum number of results to be returned. In this case, we are told that any request has a **maximum of 50 results per request** and defaults to 20. Furthermore, any search will be limited to a **total of 1000 results**. To retrieve all 1000 of these results, we would have to page through the results piece by piece, retrieving 50 at a time. Processes such as these are often referred to as pagination.\n",
    "\n",
    "Also, be mindful of the **API** ***rate*** **limits**. You can only make **5000 requests per day** and are also can make requests too fast. Start prototyping small before running a loop that could be faulty. You can also use `time.sleep(n)` to add delays. For more details see https://www.yelp.com/developers/documentation/v3/rate_limiting.\n",
    "\n",
    "In this lab, you will define a search and then paginate over the results to retrieve all of the results. You'll then parse these responses as a list of dictionaries (for further exploration) and create a map using Folium to visualize the results geographically.\n",
    "\n",
    "### Requirements\n",
    "\n",
    "#### 1. Make the Initial Request\n",
    "\n",
    "Start by filling in your API key to make the initial request to the business search API. Investigate the structure of the response you get back and start figuring out how you will extract the relevant information.\n",
    "\n",
    "#### 2. Add Pagination\n",
    "\n",
    "Using loops and functions, collect the maximum number of results for your query from the API.\n",
    "\n",
    "#### 3. Perform Exploratory Analysis\n",
    "\n",
    "Interpret visualizations related to the price range, average rating, and number of reviews for all query results.\n",
    "\n",
    "#### 4. Create a Folium Map\n",
    "\n",
    "Using latitude and longitude data, plot the query results on an interactive map."
   ]
  },
  {
   "cell_type": "markdown",
   "metadata": {},
   "source": [
    "## 1. Make the Initial Request\n",
    "\n",
    "### Querying\n",
    "\n",
    "Start by making an initial request to the Yelp API. Your search must include at least 2 parameters: **term** and **location**. For example, you might search for pizza restaurants in NYC. The term and location is up to you but make the request below.\n",
    "\n",
    "Use the `requests` library ([documentation here](https://requests.readthedocs.io/en/master/user/quickstart/#make-a-request)).\n",
    "\n",
    "You'll also need an API key from Yelp. If you haven't done this already, go to the Yelp [Manage App page](https://www.yelp.com/developers/v3/manage_app) and create a new app (after making an account if you haven't already)."
   ]
  },
  {
   "cell_type": "code",
   "execution_count": 23,
   "metadata": {},
   "outputs": [
    {
     "data": {
      "text/plain": [
       "<Response [200]>"
      ]
     },
     "execution_count": 23,
     "metadata": {},
     "output_type": "execute_result"
    }
   ],
   "source": [
    "# Replace None with appropriate code\n",
    "\n",
    "# Import the requests library\n",
    "import requests\n",
    "\n",
    "# Get this from the \"Manage App\" page. Make sure you set them\n",
    "# back to None before pushing this to GitHub, since otherwise\n",
    "# your credentials will be compromised\n",
    "api_key = None\n",
    "\n",
    "# These can be whatever you want! But the solution uses \"pizza\"\n",
    "# and \"New York NY\" if you want to compare your work directly\n",
    "term = 'pizza'\n",
    "location = 'New York NY'\n",
    "\n",
    "# Set up params for request\n",
    "url = \"https://api.yelp.com/v3/businesses/search\"\n",
    "headers = {\n",
    "    \"Authorization\": \"Bearer {}\".format(api_key)\n",
    "}\n",
    "url_params = {\n",
    "    \"term\": term.replace(\" \", \"+\"),\n",
    "    \"location\": location.replace(\" \", \"+\")\n",
    "}\n",
    "\n",
    "# Make the request using requests.get, passing in\n",
    "# url, headers=headers, and params=url_params\n",
    "response = requests.get(url, headers=headers, params=url_params)\n",
    "\n",
    "# Confirm we got a 200 response\n",
    "response"
   ]
  },
  {
   "cell_type": "code",
   "execution_count": 24,
   "metadata": {},
   "outputs": [
    {
     "data": {
      "text/plain": [
       "dict_keys(['businesses', 'total', 'region'])"
      ]
     },
     "execution_count": 24,
     "metadata": {},
     "output_type": "execute_result"
    }
   ],
   "source": [
    "# Run this cell without changes\n",
    "\n",
    "# Get the response body in JSON format\n",
    "response_json = response.json()\n",
    "# View the keys\n",
    "response_json.keys()"
   ]
  },
  {
   "cell_type": "markdown",
   "metadata": {},
   "source": [
    "### Extracting Data\n",
    "\n",
    "Now, retrieve the value associated with the `'businesses'` key, and inspect its contents."
   ]
  },
  {
   "cell_type": "code",
   "execution_count": 25,
   "metadata": {},
   "outputs": [
    {
     "data": {
      "text/plain": [
       "[{'id': 'zj8Lq1T8KIC5zwFief15jg',\n",
       "  'alias': 'prince-street-pizza-new-york-2',\n",
       "  'name': 'Prince Street Pizza',\n",
       "  'image_url': 'https://s3-media3.fl.yelpcdn.com/bphoto/ZAukOyv530w4KjOHC5YY1w/o.jpg',\n",
       "  'is_closed': False,\n",
       "  'url': 'https://www.yelp.com/biz/prince-street-pizza-new-york-2?adjust_creative=pj8E30fJkvyk8MPcCltS8w&utm_campaign=yelp_api_v3&utm_medium=api_v3_business_search&utm_source=pj8E30fJkvyk8MPcCltS8w',\n",
       "  'review_count': 4283,\n",
       "  'categories': [{'alias': 'pizza', 'title': 'Pizza'},\n",
       "   {'alias': 'italian', 'title': 'Italian'}],\n",
       "  'rating': 4.5,\n",
       "  'coordinates': {'latitude': 40.72308755605564,\n",
       "   'longitude': -73.99453001177575},\n",
       "  'transactions': ['pickup', 'delivery'],\n",
       "  'price': '$',\n",
       "  'location': {'address1': '27 Prince St',\n",
       "   'address2': None,\n",
       "   'address3': '',\n",
       "   'city': 'New York',\n",
       "   'zip_code': '10012',\n",
       "   'country': 'US',\n",
       "   'state': 'NY',\n",
       "   'display_address': ['27 Prince St', 'New York, NY 10012']},\n",
       "  'phone': '+12129664100',\n",
       "  'display_phone': '(212) 966-4100',\n",
       "  'distance': 1961.8771417367063},\n",
       " {'id': 'ysqgdbSrezXgVwER2kQWKA',\n",
       "  'alias': 'julianas-brooklyn-3',\n",
       "  'name': \"Juliana's\",\n",
       "  'image_url': 'https://s3-media2.fl.yelpcdn.com/bphoto/clscwgOF9_Ecq-Rwsq7jyQ/o.jpg',\n",
       "  'is_closed': False,\n",
       "  'url': 'https://www.yelp.com/biz/julianas-brooklyn-3?adjust_creative=pj8E30fJkvyk8MPcCltS8w&utm_campaign=yelp_api_v3&utm_medium=api_v3_business_search&utm_source=pj8E30fJkvyk8MPcCltS8w',\n",
       "  'review_count': 2418,\n",
       "  'categories': [{'alias': 'pizza', 'title': 'Pizza'}],\n",
       "  'rating': 4.5,\n",
       "  'coordinates': {'latitude': 40.70274718768062,\n",
       "   'longitude': -73.99343490196397},\n",
       "  'transactions': ['delivery'],\n",
       "  'price': '$$',\n",
       "  'location': {'address1': '19 Old Fulton St',\n",
       "   'address2': '',\n",
       "   'address3': '',\n",
       "   'city': 'Brooklyn',\n",
       "   'zip_code': '11201',\n",
       "   'country': 'US',\n",
       "   'state': 'NY',\n",
       "   'display_address': ['19 Old Fulton St', 'Brooklyn, NY 11201']},\n",
       "  'phone': '+17185966700',\n",
       "  'display_phone': '(718) 596-6700',\n",
       "  'distance': 308.56984360837544}]"
      ]
     },
     "execution_count": 25,
     "metadata": {},
     "output_type": "execute_result"
    }
   ],
   "source": [
    "# Replace None with appropriate code\n",
    "\n",
    "# Retrieve the value from response_json\n",
    "businesses = response_json['businesses']\n",
    "\n",
    "# View the first 2 records\n",
    "businesses[:2]"
   ]
  },
  {
   "cell_type": "markdown",
   "metadata": {},
   "source": [
    "### Preparing Data\n",
    "\n",
    "Write a function `prepare_data` that takes in a list of dictionaries like `businesses` and returns a copy that has been prepared for analysis:\n",
    "\n",
    "1. The `coordinates` key-value pair has been converted into two separate key-value pairs, `latitude` and `longitude`\n",
    "2. All other key-value pairs except for `name`, `review_count`, `rating`, and `price` have been dropped\n",
    "3. All dictionaries missing one of the relevant keys or containing null values have been dropped\n",
    "\n",
    "In other words, the final keys for each dictionary should be `name`, `review_count`, `rating`, `price`, `latitude`, and `longitude`.\n",
    "\n",
    "Complete the function in the cell below:"
   ]
  },
  {
   "cell_type": "code",
   "execution_count": 26,
   "metadata": {},
   "outputs": [
    {
     "data": {
      "text/plain": [
       "[{'name': 'Prince Street Pizza',\n",
       "  'review_count': 4283,\n",
       "  'rating': 4.5,\n",
       "  'price': '$',\n",
       "  'latitude': 40.72308755605564,\n",
       "  'longitude': -73.99453001177575},\n",
       " {'name': \"Juliana's\",\n",
       "  'review_count': 2418,\n",
       "  'rating': 4.5,\n",
       "  'price': '$$',\n",
       "  'latitude': 40.70274718768062,\n",
       "  'longitude': -73.99343490196397},\n",
       " {'name': 'Rubirosa',\n",
       "  'review_count': 2612,\n",
       "  'rating': 4.5,\n",
       "  'price': '$$',\n",
       "  'latitude': 40.722766,\n",
       "  'longitude': -73.996233},\n",
       " {'name': \"Lombardi's Pizza\",\n",
       "  'review_count': 6292,\n",
       "  'rating': 4.0,\n",
       "  'price': '$$',\n",
       "  'latitude': 40.7215934960083,\n",
       "  'longitude': -73.9955956044561},\n",
       " {'name': \"Grimaldi's Pizzeria\",\n",
       "  'review_count': 4762,\n",
       "  'rating': 3.5,\n",
       "  'price': '$$',\n",
       "  'latitude': 40.702583,\n",
       "  'longitude': -73.9932413}]"
      ]
     },
     "execution_count": 26,
     "metadata": {},
     "output_type": "execute_result"
    }
   ],
   "source": [
    "# Replace None with appropriate code\n",
    "\n",
    "def prepare_data(data_list):\n",
    "    \"\"\"\n",
    "    This function takes in a list of dictionaries and prepares it\n",
    "    for analysis\n",
    "    \"\"\"\n",
    "    \n",
    "    # Make a new list to hold results\n",
    "    results = []\n",
    "    \n",
    "    for business_data in data_list:\n",
    "    \n",
    "        # Make a new dictionary to hold prepared data for this business\n",
    "        prepared_data = {}\n",
    "        \n",
    "        # Extract name, review_count, rating, and price key-value pairs\n",
    "        # from business_data and add to prepared_data\n",
    "        # If a key is not present in business_data, add it to prepared_data\n",
    "        # with an associated value of None\n",
    "        for key in ('name', 'review_count', 'rating', 'price'):\n",
    "            prepared_data[key] = business_data.get(key, None)\n",
    "    \n",
    "        # Parse and add latitude and longitude columns\n",
    "        prepared_data['latitude'] = business_data['coordinates']['latitude']\n",
    "        prepared_data['longitude'] = business_data['coordinates']['longitude']\n",
    "        \n",
    "        # Add to list if all values are present\n",
    "        if all(prepared_data.values()):\n",
    "            results.append(prepared_data)\n",
    "    \n",
    "    return results\n",
    "    \n",
    "# Test out function\n",
    "prepared_businesses = prepare_data(businesses)\n",
    "prepared_businesses[:5]"
   ]
  },
  {
   "cell_type": "markdown",
   "metadata": {},
   "source": [
    "Check that your function created the correct keys:"
   ]
  },
  {
   "cell_type": "code",
   "execution_count": 27,
   "metadata": {},
   "outputs": [],
   "source": [
    "# Run this cell without changes\n",
    "\n",
    "assert sorted(list(prepared_businesses[0].keys())) == ['latitude', 'longitude', 'name', 'price', 'rating', 'review_count']"
   ]
  },
  {
   "cell_type": "markdown",
   "metadata": {},
   "source": [
    "The following code will differ depending on your query, but we expect there to be 20 businesses in the original list, and potentially fewer in the prepared list (if any of them were missing data):"
   ]
  },
  {
   "cell_type": "code",
   "execution_count": 28,
   "metadata": {},
   "outputs": [
    {
     "name": "stdout",
     "output_type": "stream",
     "text": [
      "Original: 20\n",
      "Prepared: 20\n"
     ]
    }
   ],
   "source": [
    "# Run this cell without changes\n",
    "print(\"Original:\", len(businesses))\n",
    "print(\"Prepared:\", len(prepared_businesses))"
   ]
  },
  {
   "cell_type": "markdown",
   "metadata": {},
   "source": [
    "Great! We will reuse this function once we have retrieved the full dataset."
   ]
  },
  {
   "cell_type": "markdown",
   "metadata": {},
   "source": [
    "## 2. Add Pagination\n",
    "\n",
    "Now that you are able to extract information from one page of the response, let's figure out how to request as many pages as possible.\n",
    "\n",
    "### Determining the Total\n",
    "\n",
    "Depending on the number of total results for your query, you will either retrieve all of the results, or just the first 1000 (if there are more than 1000 total).\n",
    "\n",
    "We can find the total number of results using the `\"total\"` key:"
   ]
  },
  {
   "cell_type": "code",
   "execution_count": 29,
   "metadata": {},
   "outputs": [
    {
     "data": {
      "text/plain": [
       "11900"
      ]
     },
     "execution_count": 29,
     "metadata": {},
     "output_type": "execute_result"
    }
   ],
   "source": [
    "# Run this cell without changes\n",
    "response_json[\"total\"]"
   ]
  },
  {
   "cell_type": "markdown",
   "metadata": {},
   "source": [
    "(This is specific to the implementation of the Yelp API. Some APIs will just tell you that there are more pages, or will tell you the number of pages total, rather than the total number of results. If you're not sure, always check the documentation.)\n",
    "\n",
    "In the cell below, assign the variable `total` to either the value shown above (if it is less than 1000), or 1000."
   ]
  },
  {
   "cell_type": "code",
   "execution_count": 30,
   "metadata": {},
   "outputs": [],
   "source": [
    "# Replace None with appropriate code\n",
    "total = 1000"
   ]
  },
  {
   "cell_type": "markdown",
   "metadata": {},
   "source": [
    "### Calculating the Offsets\n",
    "\n",
    "The documentation states in the parameters section:\n",
    "\n",
    "> **Name**: `limit`, **Type:** int, **Description:** Optional. Number of business results to return. By default, it will return 20. Maximum is 50.\n",
    "\n",
    "> **Name**: `offset`, **Type:** int, **Description:** Optional. Offset the list of returned business results by this amount.\n",
    "\n",
    "So, to get the most results with the fewest API calls we want to set a limit of 50 every time. If, say, we wanted to get 210 total results, that would mean:\n",
    "\n",
    "1. Offset of `0` (first 50 records)\n",
    "2. Offset of `50` (second 50 records)\n",
    "3. Offset of `100` (third 50 records)\n",
    "4. Offset of `150` (fourth 50 records)\n",
    "5. Offset of `200` (final 10 records)\n",
    "\n",
    "In the cell below, create a function `get_offsets` that takes in a total and returns a list of offsets for that total. You can assume that there is a limit of 50 every time.\n",
    "\n",
    "*Hint: you can use `range` ([documentation here](https://docs.python.org/3.3/library/stdtypes.html?highlight=range#range)) to do this in one line of code. Just make the returned result is a list.*"
   ]
  },
  {
   "cell_type": "code",
   "execution_count": 31,
   "metadata": {},
   "outputs": [],
   "source": [
    "# Replace None with appropriate code\n",
    "def get_offsets(total):\n",
    "    \"\"\"\n",
    "    Get a list of offsets needed to get all pages\n",
    "    of data up until the total\n",
    "    \"\"\"\n",
    "    return list(range(0, total, 50))"
   ]
  },
  {
   "cell_type": "markdown",
   "metadata": {},
   "source": [
    "Check that your function works below:"
   ]
  },
  {
   "cell_type": "code",
   "execution_count": 32,
   "metadata": {},
   "outputs": [],
   "source": [
    "# Run this cell without changes\n",
    "\n",
    "assert get_offsets(200) == [0, 50, 100, 150]\n",
    "assert get_offsets(210) == [0, 50, 100, 150, 200]"
   ]
  },
  {
   "cell_type": "markdown",
   "metadata": {},
   "source": [
    "### Putting It All Together\n",
    "\n",
    "Recall that the following variable has already been declared for you:"
   ]
  },
  {
   "cell_type": "code",
   "execution_count": 33,
   "metadata": {},
   "outputs": [
    {
     "data": {
      "text/plain": [
       "{'term': 'pizza', 'location': 'New+York+NY'}"
      ]
     },
     "execution_count": 33,
     "metadata": {},
     "output_type": "execute_result"
    }
   ],
   "source": [
    "# Run this cell without changes\n",
    "url_params"
   ]
  },
  {
   "cell_type": "markdown",
   "metadata": {},
   "source": [
    "We'll go ahead and also specify that the limit should be 50 every time:"
   ]
  },
  {
   "cell_type": "code",
   "execution_count": 34,
   "metadata": {},
   "outputs": [],
   "source": [
    "# Run this cell without changes\n",
    "url_params[\"limit\"] = 50"
   ]
  },
  {
   "cell_type": "markdown",
   "metadata": {},
   "source": [
    "In order to modify the offset, you'll need to add it to `url_params` with the key `\"offset\"` and whatever value is needed.\n",
    "\n",
    "In the cell below, write code that:\n",
    "\n",
    "* Creates an empty list for the full prepared dataset\n",
    "* Loops over all of the offsets from `get_offsets` and makes an API call each time with the specified offset\n",
    "* Calls `prepare_data` to get a cleaned version of the result of each API call\n",
    "* Extends the full prepared dataset list with each query's prepared dataset"
   ]
  },
  {
   "cell_type": "code",
   "execution_count": 35,
   "metadata": {},
   "outputs": [
    {
     "data": {
      "text/plain": [
       "796"
      ]
     },
     "execution_count": 35,
     "metadata": {},
     "output_type": "execute_result"
    }
   ],
   "source": [
    "# Replace None with appropriate code\n",
    "\n",
    "# Create an empty list for the full prepared dataset\n",
    "full_dataset = []\n",
    "\n",
    "for offset in get_offsets(total):\n",
    "    # Add or update the \"offset\" key-value pair in url_params\n",
    "    url_params['offset'] = offset\n",
    "    \n",
    "    # Make the query and get the response\n",
    "    response = requests.get(url, headers=headers, params=url_params)\n",
    "    \n",
    "    # Get the response body in JSON format\n",
    "    response_json = response.json()\n",
    "    \n",
    "    # Get the list of businesses from the response_json\n",
    "    businesses = response_json['businesses']\n",
    "    \n",
    "    # Call the prepare_data function to get a list of processed data\n",
    "    prepared_businesses = prepare_data(businesses)\n",
    "    \n",
    "    # Extend full_dataset with this list (don't append, or you'll get\n",
    "    # a list of lists instead of a flat list)\n",
    "    full_dataset.extend(prepared_businesses)\n",
    "\n",
    "# Check the length of the full dataset. It will be up to `total`,\n",
    "# potentially less if there were missing values\n",
    "len(full_dataset)"
   ]
  },
  {
   "cell_type": "markdown",
   "metadata": {},
   "source": [
    "This code may take up to a few minutes to run.\n",
    "\n",
    "If you get an error trying to get the response body in JSON format, try adding `time.sleep(1)` right after the `requests.get` line, so your code will sleep for 1 second between each API call."
   ]
  },
  {
   "cell_type": "markdown",
   "metadata": {},
   "source": [
    "## 3. Perform Exploratory Analysis\n",
    "\n",
    "Take the businesses from the previous question and do an initial exploratory analysis. We have provided some plots for you to interpret:"
   ]
  },
  {
   "cell_type": "code",
   "execution_count": 36,
   "metadata": {},
   "outputs": [
    {
     "data": {
      "image/png": "[encoded data removed]",
      "text/plain": [
       "<Figure size 1152x360 with 3 Axes>"
      ]
     },
     "metadata": {
      "needs_background": "light"
     },
     "output_type": "display_data"
    }
   ],
   "source": [
    "# Run this cell without changes\n",
    "from collections import Counter\n",
    "import matplotlib.pyplot as plt\n",
    "%matplotlib inline\n",
    "\n",
    "fig, (ax1, ax2, ax3) = plt.subplots(ncols=3, figsize=(16, 5))\n",
    "\n",
    "# Plot distribution of number of reviews\n",
    "all_review_counts = [x[\"review_count\"] for x in full_dataset]\n",
    "ax1.hist(all_review_counts)\n",
    "ax1.set_title(\"Review Count Distribution\")\n",
    "ax1.set_xlabel(\"Number of Reviews\")\n",
    "ax1.set_ylabel(\"Number of Businesses\")\n",
    "\n",
    "# Plot rating distribution\n",
    "all_ratings = [x[\"rating\"] for x in full_dataset]\n",
    "rating_counter = Counter(all_ratings)\n",
    "rating_keys = sorted(rating_counter.keys())\n",
    "ax2.bar(rating_keys, [rating_counter[key] for key in rating_keys])\n",
    "ax2.set_title(\"Rating Distribution\")\n",
    "ax2.set_xlabel(\"Rating\")\n",
    "ax2.set_ylabel(\"Number of Businesses\")\n",
    "\n",
    "# Plot price distribution\n",
    "all_prices = [x[\"price\"].replace(\"$\", r\"\\$\") for x in full_dataset]\n",
    "price_counter = Counter(all_prices)\n",
    "price_keys = sorted(price_counter.keys())\n",
    "ax3.bar(price_keys, [price_counter[key] for key in price_keys])\n",
    "ax3.set_title(\"Price Distribution\")\n",
    "ax3.set_xlabel(\"Price Category\")\n",
    "ax3.set_ylabel(\"Number of Businesses\");"
   ]
  },
  {
   "cell_type": "markdown",
   "metadata": {},
   "source": [
    "Describe the distributions displayed above and interpret them in the context of your query. (Your answer may differ from the solution branch depending on your query.)"
   ]
  },
  {
   "cell_type": "code",
   "execution_count": null,
   "metadata": {},
   "outputs": [],
   "source": [
    "# Replace None with appropriate text\n",
    "\"\"\"\n",
    "Out of the 796 businesses queried, the vast majority had less than 1000 reviews. There is a slight negatively skewed distriubtion \n",
    "of restaurant ratings, with the most common rating for the business at 4.0. The restaurants queried are also on the cheaper\n",
    "side condsidering price, with approx. 700 restaurants falling under the $ or $$ price category.\n",
    "\"\"\""
   ]
  },
  {
   "cell_type": "markdown",
   "metadata": {},
   "source": [
    "In the cell below, we also plot the rating distributions by price. In this setup, a price of one dollar sign is \"lower price\" and everything else is \"higher price\"."
   ]
  },
  {
   "cell_type": "code",
   "execution_count": 37,
   "metadata": {},
   "outputs": [
    {
     "data": {
      "image/png": "[encoded data removed]",
      "text/plain": [
       "<Figure size 432x288 with 1 Axes>"
      ]
     },
     "metadata": {
      "needs_background": "light"
     },
     "output_type": "display_data"
    }
   ],
   "source": [
    "# Run this cell without changes\n",
    "\n",
    "higher_price = []\n",
    "lower_price = []\n",
    "for row in full_dataset:\n",
    "    if row[\"price\"] == \"$\":\n",
    "        lower_price.append(row[\"rating\"])\n",
    "    else:\n",
    "        higher_price.append(row[\"rating\"])\n",
    "        \n",
    "fig, ax = plt.subplots()\n",
    "\n",
    "ax.hist([higher_price, lower_price], label=[\"higher price\", \"lower price\"], density=True)\n",
    "\n",
    "ax.legend();"
   ]
  },
  {
   "cell_type": "markdown",
   "metadata": {},
   "source": [
    "Is a higher price associated with a higher rating? (No need for any additional math/statistics, just interpret what you see in the plot.)"
   ]
  },
  {
   "cell_type": "code",
   "execution_count": null,
   "metadata": {},
   "outputs": [],
   "source": [
    "# Replace None with appropriate text\n",
    "\"\"\"\n",
    "Yes higher price is associated with a higher rating. Lower prices are more commonly found in the 2.0 to 3.8 range. \n",
    "Whereas higher prices are more commonly found in the 4.0 to 5.0 range.\n",
    "\"\"\""
   ]
  },
  {
   "cell_type": "markdown",
   "metadata": {},
   "source": [
    "Finally, let's look at ratings vs. review counts:"
   ]
  },
  {
   "cell_type": "code",
   "execution_count": 38,
   "metadata": {},
   "outputs": [
    {
     "data": {
      "image/png": "[encoded data removed]",
      "text/plain": [
       "<Figure size 1152x360 with 1 Axes>"
      ]
     },
     "metadata": {
      "needs_background": "light"
     },
     "output_type": "display_data"
    }
   ],
   "source": [
    "# Run this cell without changes\n",
    "fig, ax = plt.subplots(figsize=(16,5))\n",
    "\n",
    "ax.scatter(all_review_counts, all_ratings, alpha=0.2)\n",
    "ax.set_xlabel(\"Number of Reviews\")\n",
    "ax.set_ylabel(\"Rating\")\n",
    "# \"zoom in\" to a subset of review counts\n",
    "ax.set_xlim(left=0, right=1000);"
   ]
  },
  {
   "cell_type": "markdown",
   "metadata": {},
   "source": [
    "Is a higher number of reviews associated with a higher rating?"
   ]
  },
  {
   "cell_type": "code",
   "execution_count": null,
   "metadata": {},
   "outputs": [],
   "source": [
    "# Replace None with appropriate text\n",
    "\"\"\"\n",
    "The number of reviews does not seems to be associated with a higher rating, as there are very few reviews at a 5.0 rating.\n",
    "\"\"\""
   ]
  },
  {
   "cell_type": "markdown",
   "metadata": {},
   "source": [
    "## 4. Create a Folium Map\n",
    "\n",
    "Make a map using Folium of the businesses you retrieved. Be sure to also add popups to the markers giving some basic information such as name, rating and price.\n",
    "\n",
    "You can center the map around the latitude and longitude of the first item in `full_dataset`."
   ]
  },
  {
   "cell_type": "code",
   "execution_count": 40,
   "metadata": {},
   "outputs": [
    {
     "data": {
      "text/html": [
       "<div style=\"width:100%;\"><div style=\"position:relative;width:100%;height:0;padding-bottom:60%;\"><span style=\"color:#565656\">Make this Notebook Trusted to load map: File -> Trust Notebook</span><iframe src=\"about:blank\" style=\"position:absolute;width:100%;height:100%;left:0;top:0;border:none !important;\" data-html=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 onload=\"this.contentDocument.open();this.contentDocument.write(atob(this.getAttribute('data-html')));this.contentDocument.close();\" allowfullscreen webkitallowfullscreen mozallowfullscreen></iframe></div></div>"
      ],
      "text/plain": [
       "<folium.folium.Map at 0x7fcb585398e0>"
      ]
     },
     "execution_count": 40,
     "metadata": {},
     "output_type": "execute_result"
    }
   ],
   "source": [
    "# Replace None with appropriate code\n",
    "\n",
    "# Import the library\n",
    "import folium\n",
    "\n",
    "# Set up center latitude and longitude\n",
    "center_lat = full_dataset[0]['latitude']\n",
    "center_long = full_dataset[0]['longitude']\n",
    "\n",
    "# Initialize map with center lat and long\n",
    "yelp_map = folium.Map([center_lat, center_long], zoom_start=13)\n",
    "\n",
    "# Adjust this limit to see more or fewer businesses\n",
    "limit=50\n",
    "\n",
    "for business in full_dataset[:limit]:\n",
    "    # Extract information about business\n",
    "    lat = business['latitude']\n",
    "    long = business['longitude']\n",
    "    name = business['name']\n",
    "    rating = business['rating']\n",
    "    price = business['price']\n",
    "    details = \"{}\\nPrice: {} Rating:{}\".format(name,price,rating)\n",
    "    \n",
    "    # Create popup with relevant details\n",
    "    popup = folium.Popup(details)\n",
    "    \n",
    "    # Create marker with relevant lat/long and popup\n",
    "    marker = folium.Marker(location=[lat, long], popup=popup)\n",
    "    \n",
    "    marker.add_to(yelp_map)\n",
    "    \n",
    "yelp_map"
   ]
  },
  {
   "cell_type": "markdown",
   "metadata": {},
   "source": [
    "## Summary\n",
    "\n",
    "Nice work! In this lab, you've made multiple API calls to Yelp in order to paginate through a results set, performing some basic exploratory analysis and then creating a nice interactive map to display the results using Folium! Well done!"
   ]
  }
 ],
 "metadata": {
  "kernelspec": {
   "display_name": "Python 3",
   "language": "python",
   "name": "python3"
  },
  "language_info": {
   "codemirror_mode": {
    "name": "ipython",
    "version": 3
   },
   "file_extension": ".py",
   "mimetype": "text/x-python",
   "name": "python",
   "nbconvert_exporter": "python",
   "pygments_lexer": "ipython3",
   "version": "3.8.5"
  },
  "toc": {
   "base_numbering": 1,
   "nav_menu": {},
   "number_sections": true,
   "sideBar": true,
   "skip_h1_title": false,
   "title_cell": "Table of Contents",
   "title_sidebar": "Contents",
   "toc_cell": false,
   "toc_position": {},
   "toc_section_display": true,
   "toc_window_display": false
  }
 },
 "nbformat": 4,
 "nbformat_minor": 2
}
